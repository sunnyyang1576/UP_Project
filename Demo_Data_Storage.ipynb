{
 "cells": [
  {
   "cell_type": "markdown",
   "metadata": {},
   "source": [
    "# Demo On Data Storage Module"
   ]
  },
  {
   "cell_type": "markdown",
   "metadata": {},
   "source": [
    "## Import library"
   ]
  },
  {
   "cell_type": "code",
   "execution_count": 1,
   "metadata": {},
   "outputs": [],
   "source": [
    "from PaiPai_Data_Storage import PaiPaiHFInstrument"
   ]
  },
  {
   "cell_type": "markdown",
   "metadata": {},
   "source": [
    "## Empty Storage"
   ]
  },
  {
   "cell_type": "markdown",
   "metadata": {},
   "source": [
    "This is used to initialize the hedge fund storage instrument. \n",
    "\n",
    "It requires two unique identifiers of hedge fund."
   ]
  },
  {
   "cell_type": "code",
   "execution_count": 2,
   "metadata": {},
   "outputs": [],
   "source": [
    "sample_hf_storage = PaiPaiHFInstrument(unique_id=\"00001\",fund_id=\"HF00001\")"
   ]
  },
  {
   "cell_type": "code",
   "execution_count": 3,
   "metadata": {},
   "outputs": [
    {
     "data": {
      "text/plain": [
       "'00001'"
      ]
     },
     "execution_count": 3,
     "metadata": {},
     "output_type": "execute_result"
    }
   ],
   "source": [
    "sample_hf_storage.unique_id"
   ]
  },
  {
   "cell_type": "code",
   "execution_count": 4,
   "metadata": {},
   "outputs": [
    {
     "data": {
      "text/plain": [
       "'HF00001'"
      ]
     },
     "execution_count": 4,
     "metadata": {},
     "output_type": "execute_result"
    }
   ],
   "source": [
    "sample_hf_storage.fund_id"
   ]
  },
  {
   "cell_type": "markdown",
   "metadata": {},
   "source": [
    "It currently is an empty instrument. \n",
    "\n",
    "It can be checked by the store_list attributes."
   ]
  },
  {
   "cell_type": "code",
   "execution_count": 5,
   "metadata": {},
   "outputs": [
    {
     "data": {
      "text/plain": [
       "[]"
      ]
     },
     "execution_count": 5,
     "metadata": {},
     "output_type": "execute_result"
    }
   ],
   "source": [
    "sample_hf_storage.store_list"
   ]
  },
  {
   "cell_type": "markdown",
   "metadata": {},
   "source": [
    "## Store different features into the empty storage"
   ]
  },
  {
   "cell_type": "markdown",
   "metadata": {},
   "source": [
    "In the following cases, we store data into the corresponding attributes of the empty storage instrument.\n",
    "\n",
    "The data should be in the format of a specific instrument, such as asset size instrument, nav instrument.\n",
    "These will be illustrated in the next part. \n",
    "\n",
    "For simplicity purpose, we will use 100 as data for this part."
   ]
  },
  {
   "cell_type": "code",
   "execution_count": 9,
   "metadata": {},
   "outputs": [],
   "source": [
    "sample_hf_storage.store_asset_size(100)"
   ]
  },
  {
   "cell_type": "code",
   "execution_count": 10,
   "metadata": {},
   "outputs": [],
   "source": [
    "sample_hf_storage.store_nav(100)"
   ]
  },
  {
   "cell_type": "code",
   "execution_count": 11,
   "metadata": {},
   "outputs": [],
   "source": [
    "sample_hf_storage.store_personnel_info(100)"
   ]
  },
  {
   "cell_type": "code",
   "execution_count": 12,
   "metadata": {},
   "outputs": [],
   "source": [
    "sample_hf_storage.store_strategy(100)"
   ]
  },
  {
   "cell_type": "code",
   "execution_count": 13,
   "metadata": {},
   "outputs": [],
   "source": [
    "sample_hf_storage.store_attribute(100)"
   ]
  },
  {
   "cell_type": "markdown",
   "metadata": {},
   "source": [
    "We could now check the type of data stored."
   ]
  },
  {
   "cell_type": "code",
   "execution_count": 15,
   "metadata": {},
   "outputs": [
    {
     "data": {
      "text/plain": [
       "['asset_size', 'nav', 'personnel', 'strategy', 'attribute']"
      ]
     },
     "execution_count": 15,
     "metadata": {},
     "output_type": "execute_result"
    }
   ],
   "source": [
    "sample_hf_storage.store_list"
   ]
  },
  {
   "cell_type": "markdown",
   "metadata": {},
   "source": [
    "## Single Attribute Storage"
   ]
  },
  {
   "cell_type": "markdown",
   "metadata": {},
   "source": [
    "In this part, we will illustrate how to use instrument to store specific feature of the fund."
   ]
  },
  {
   "cell_type": "markdown",
   "metadata": {},
   "source": [
    "We first import the different instruments corresponding to different features."
   ]
  },
  {
   "cell_type": "code",
   "execution_count": 16,
   "metadata": {},
   "outputs": [],
   "source": [
    "from PaiPai_Data_Storage import (AssetSizeStorage,\n",
    "                                 NAVStorage,\n",
    "                                 StrategyStorage,\n",
    "                                 AttributeStorage)"
   ]
  },
  {
   "cell_type": "markdown",
   "metadata": {},
   "source": [
    "The data we get from the API can be then ditributed into different instruments. \n",
    "\n",
    "In addition to API data, we also attatch the fund id, update date and update indicator to make the instrument more clearly defined."
   ]
  },
  {
   "cell_type": "code",
   "execution_count": 17,
   "metadata": {},
   "outputs": [],
   "source": [
    "asset_storage=AssetSizeStorage(unique_id=\"00001\",\n",
    "                fund_id=\"HF00001\",\n",
    "                update_time=\"2019-10-15\",\n",
    "                update_flag=True,\n",
    "                date=[\"2019-10-15\",\"2019-10-14\",\"2019-10-13\"],\n",
    "                asset_size_series=[100,150,200])"
   ]
  },
  {
   "cell_type": "markdown",
   "metadata": {},
   "source": [
    "Other than the major column/feature in the API table. There are several other variables within the same table that could potentially be stored. \n",
    "\n",
    "To store features other than the main features, we need to call the specific methods within the instrument.\n",
    "\n",
    "The following is an example. Within the NAV table of SQL database, there are four variables of potential interest.\n",
    "1. nav (major feature)\n",
    "2. cumulative nav\n",
    "3. cumulative nav witdrawal\n",
    "4. high or low\n",
    "\n",
    "The major feature will be stored when the instrument is initialized. Other three variables can be stored using specific methods."
   ]
  },
  {
   "cell_type": "code",
   "execution_count": null,
   "metadata": {},
   "outputs": [],
   "source": [
    "nav_storage=NAVStorage(unique_id=\"00001\",\n",
    "                fund_id=\"HF00001\",\n",
    "                update_time=\"2019-10-15\",\n",
    "                update_flag=True,\n",
    "                date=[\"2019-10-15\",\"2019-10-14\",\"2019-10-13\"],\n",
    "                nav=[100,150,200])"
   ]
  },
  {
   "cell_type": "code",
   "execution_count": 19,
   "metadata": {},
   "outputs": [],
   "source": [
    "nav_storage.store_cumulative_nav = [100,200,300]"
   ]
  },
  {
   "cell_type": "code",
   "execution_count": null,
   "metadata": {},
   "outputs": [],
   "source": [
    "nav_storage.store_cumulative_nav_withdrawal = [200,300,400]"
   ]
  },
  {
   "cell_type": "code",
   "execution_count": null,
   "metadata": {},
   "outputs": [],
   "source": [
    "nav_storage.store_is_high_or_low = [1,0,1]"
   ]
  },
  {
   "cell_type": "markdown",
   "metadata": {},
   "source": [
    "Another example is to store strategy."
   ]
  },
  {
   "cell_type": "code",
   "execution_count": null,
   "metadata": {},
   "outputs": [],
   "source": [
    "strategy_storage = StrategyStorage(unique_id=\"00001\",\n",
    "                                  fund_id=\"HF00001\",\n",
    "                                  update_time=\"2019-10-15\",\n",
    "                                  update_flag=True,\n",
    "                                  strategy=\"fixed income arbitrage\")"
   ]
  },
  {
   "cell_type": "code",
   "execution_count": null,
   "metadata": {},
   "outputs": [],
   "source": [
    "strategy_storage.store_substrategy(\"Global Macro\")"
   ]
  },
  {
   "cell_type": "code",
   "execution_count": null,
   "metadata": {},
   "outputs": [],
   "source": []
  }
 ],
 "metadata": {
  "kernelspec": {
   "display_name": "Python 3",
   "language": "python",
   "name": "python3"
  },
  "language_info": {
   "codemirror_mode": {
    "name": "ipython",
    "version": 3
   },
   "file_extension": ".py",
   "mimetype": "text/x-python",
   "name": "python",
   "nbconvert_exporter": "python",
   "pygments_lexer": "ipython3",
   "version": "3.6.5"
  }
 },
 "nbformat": 4,
 "nbformat_minor": 2
}
