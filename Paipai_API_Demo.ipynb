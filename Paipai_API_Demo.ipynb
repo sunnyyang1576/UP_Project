{
 "cells": [
  {
   "cell_type": "code",
   "execution_count": null,
   "metadata": {},
   "outputs": [],
   "source": []
  },
  {
   "cell_type": "markdown",
   "metadata": {},
   "source": [
    "# Import Packages"
   ]
  },
  {
   "cell_type": "code",
   "execution_count": 1,
   "metadata": {
    "scrolled": true
   },
   "outputs": [
    {
     "name": "stdout",
     "output_type": "stream",
     "text": [
      "mysql-connector (2.2.9)                                   - MySQL driver\r\n",
      "                                                            written in Python\r\n",
      "bottle-mysql-connector (0.0.4)                            - MySQL integration\r\n",
      "                                                            for Bottle.\r\n",
      "mysql-connector-python (8.0.18)                           - MySQL driver\r\n",
      "                                                            written in Python\r\n",
      "  INSTALLED: 8.0.18 (latest)\r\n",
      "mysql-connector-repackaged (0.3.1)                        - MySQL driver\r\n",
      "                                                            written in Python\r\n",
      "mysql-connector-async-dd (2.0.2)                          - mysql async\r\n",
      "                                                            connection\r\n",
      "mysql (0.0.2)                                             - Virtual package\r\n",
      "                                                            for MySQL-python\r\n",
      "mysql-connector-python-rf (2.2.2)                         - MySQL driver\r\n",
      "                                                            written in Python\r\n",
      "mysql-connector-python-dd (2.0.2)                         - MySQL driver\r\n",
      "                                                            written in Python\r\n",
      "mysql-lingling (0.0.5)                                    - &#23545; mysql-\r\n",
      "                                                            connector &#30340;\r\n",
      "                                                            &#20108;&#27425;&#\r\n",
      "                                                            23553;&#35013;\r\n",
      "weibo-mysql (0.1)                                         - insert mysql\r\n",
      "bits-mysql (1.0.3)                                        - BITS MySQL\r\n",
      "WintxDriver-MySQL (2.0.0-1)                               - MySQL support for\r\n",
      "                                                            Wintx\r\n",
      "py-mysql (1.0)                                            - Operating Mysql\r\n",
      "                                                            for Python.\r\n",
      "mtstat-mysql (0.7.3.3)                                    - MySQL Plugins for\r\n",
      "                                                            mtstat\r\n",
      "bottle-mysql (0.3.1)                                      - MySQL integration\r\n",
      "                                                            for Bottle.\r\n",
      "deployfish-mysql (0.2.13)                                 - Deployfish MySQL\r\n",
      "                                                            plugin\r\n",
      "MySQL-python (1.2.5)                                      - Python interface\r\n",
      "                                                            to MySQL\r\n",
      "mysql-utilities (1.4.3)                                   - MySQL Utilities\r\n",
      "                                                            1.4.3 (part of\r\n",
      "                                                            MySQL Workbench\r\n",
      "                                                            Distribution\r\n",
      "                                                            6.0.0)\r\n",
      "siridb-connector (2.0.5)                                  - SiriDB Connector\r\n",
      "mongo-connector (3.1.1)                                   - Mongo Connector\r\n",
      "DStore-MySQL (0.1.0a2)                                    - MySQL Storage\r\n",
      "                                                            layer for DStore\r\n",
      "mysql-grantparser (1.0.3)                                 - parse MySQL SHOW\r\n",
      "                                                            GRANTS.\r\n",
      "Flask-MySQL (1.4.0)                                       - Flask simple mysql\r\n",
      "                                                            client\r\n",
      "sanic-mysql (0.0.5)                                       - Adds mysql support\r\n",
      "                                                            to sanic .\r\n",
      "clickhouse-mysql (0.0.20190904)                           - MySQL to\r\n",
      "                                                            ClickHouse data\r\n",
      "                                                            migrator\r\n",
      "cwmon-mysql (0.5.0)                                       - A cwmon plugin for\r\n",
      "                                                            monitoring MySQL.\r\n",
      "mysql-pyrex (0.9.0a1)                                     - Pyrex interface to\r\n",
      "                                                            the MySQL 5 API.\r\n",
      "ETLT-MySQL (0.10.0)                                       - ETLT extension for\r\n",
      "                                                            MariaDB and MySQL\r\n",
      "                                                            databases\r\n",
      "django-mysql (3.2.0)                                      - Extensions to\r\n",
      "                                                            Django for use\r\n",
      "                                                            with MySQL/MariaDB\r\n",
      "pytest-mysql (2.0.1)                                      - MySQL process and\r\n",
      "                                                            client fixtures\r\n",
      "                                                            for pytest\r\n",
      "HTSQL-MYSQL (2.3.3)                                       - A Database Query\r\n",
      "                                                            Language (MySQL\r\n",
      "                                                            backend)\r\n",
      "mysql-toolkit (1.9.1)                                     - Pure Python MySQL\r\n",
      "                                                            development\r\n",
      "                                                            toolkit.\r\n",
      "slackminion-mysql (0.1.0)                                 - Provides a MySQL\r\n",
      "                                                            state handler for\r\n",
      "                                                            slackminion\r\n",
      "Tornado-MySQL (0.5.1)                                     - Pure Python MySQL\r\n",
      "                                                            Driver for Tornado\r\n",
      "gtagora-connector (0.0.8)                                 - The Agora\r\n",
      "                                                            Connector for\r\n",
      "                                                            Python\r\n",
      "database-connector (2.2.1)                                - Database Connector\r\n",
      "                                                            Class\r\n",
      "mysql-client (0.0.1)                                      - A modern mysql\r\n",
      "                                                            client driver for\r\n",
      "                                                            modern python\r\n",
      "mysql-replay (0.1.24)                                     - Replay queries\r\n",
      "                                                            from a mysql slow\r\n",
      "                                                            log\r\n",
      "dojo-mysql (0.0.29)                                       - Dojo source and\r\n",
      "                                                            sink adapters for\r\n",
      "                                                            MySQL connections.\r\n",
      "mysql-autodoc (0.2)                                       - Generate HTML\r\n",
      "                                                            documentation from\r\n",
      "                                                            a mysql database\r\n",
      "tap-mysql (1.15.1)                                        - Singer.io tap for\r\n",
      "                                                            extracting data\r\n",
      "                                                            from MySQL\r\n",
      "brubeck-mysql (0.2.8)                                     - Brubeck module for\r\n",
      "                                                            MySQL Querysets\r\n",
      "                                                            using Schematics\r\n",
      "redis-connector (0.0.5)                                   - Redis pub/sub\r\n",
      "                                                            connector\r\n",
      "rticonnextdds-connector (0.4.5)                           - RTI Connector for\r\n",
      "                                                            Connext DDS\r\n",
      "odoo12-addon-connector (12.0.1.1.0.99.dev9)               - Connector\r\n",
      "odoo11-addon-connector (11.0.1.0.0.99.dev22)              - Connector\r\n",
      "odoo10-addon-connector (10.0.2.0.0.99.dev17)              - Connector\r\n",
      "odoo9-addon-connector (9.0.1.2.0)                         - Connector\r\n",
      "odoo8-addon-connector (8.0.3.3.0.99.dev71)                - Connector\r\n",
      "PyStratum-MySQL (0.10.16)                                 - A stored procedure\r\n",
      "                                                            and function\r\n",
      "                                                            loader, wrapper\r\n",
      "                                                            generator for\r\n",
      "                                                            MySQL\r\n",
      "pulumi-mysql (1.0.0)                                      - A Pulumi package\r\n",
      "                                                            for creating and\r\n",
      "                                                            managing mysql\r\n",
      "                                                            cloud resources.\r\n",
      "mysql-statsd (0.1.5)                                      - Daemon that\r\n",
      "                                                            gathers statistics\r\n",
      "                                                            from MySQL and\r\n",
      "                                                            sends them to\r\n",
      "                                                            statsd.\r\n",
      "format-mysql (1.0.0)                                      - Format-MySQL is a\r\n",
      "                                                            system designed to\r\n",
      "                                                            use MySQL tables\r\n",
      "                                                            as if it they were\r\n",
      "                                                            a NoSQL document.\r\n",
      "                                                            It uses Format-OC\r\n",
      "                                                            as the underlying\r\n",
      "                                                            data structure and\r\n",
      "                                                            validation system.\r\n",
      "aurora-connector (0.0.4)                                  - A Python AWS\r\n",
      "                                                            Aurora Serverless\r\n",
      "                                                            Connector.\r\n",
      "MySQL-python-embedded (1.2.7)                             - Python interface\r\n",
      "                                                            to MySQL\r\n",
      "MySQL-python-glb (1.2.6)                                  - Python interface\r\n",
      "                                                            to MySQL\r\n",
      "opencensus-ext-mysql (0.1.2)                              - OpenCensus MySQL\r\n",
      "                                                            Integration\r\n",
      "Flask-Look-Mysql (1.0.5)                                  - a look mysql html\r\n",
      "MySQL-python-vincent (1.2.5)                              - Python interface\r\n",
      "                                                            to MySQL\r\n",
      "mysql-tracer (2.0.2)                                      - A MySQL client to\r\n",
      "                                                            run queries, write\r\n",
      "                                                            execution reports\r\n",
      "                                                            and export results\r\n",
      "mysql-corsair (0.0.40)                                    - Tool to move\r\n",
      "                                                            slices of data\r\n",
      "                                                            from one MySQL\r\n",
      "                                                            store to another\r\n",
      "mysql-replication (0.19)                                  - Pure Python\r\n",
      "                                                            Implementation of\r\n",
      "                                                            MySQL replication\r\n",
      "                                                            protocol build on\r\n",
      "                                                            top of PyMYSQL.\r\n",
      "wxy-MySQL (0.0.7)                                         - MySQL&#22522;&#264\r\n",
      "                                                            12;&#22686;&#21024\r\n",
      "                                                            ;&#25913;&#26597;&\r\n",
      "                                                            #23553;&#35013;\r\n",
      "vr900-connector (0.3.4)                                   - Connector to\r\n",
      "                                                            handle vaillant\r\n",
      "                                                            vr900/vr920 data\r\n",
      "IP-Connector (0.0.2)                                      - A small example\r\n",
      "                                                            package for\r\n",
      "                                                            automatic IP\r\n",
      "                                                            Connector\r\n",
      "mysql-utils (0.0.2)                                       - A simple MySQL\r\n",
      "                                                            library including\r\n",
      "                                                            a set of utility\r\n",
      "                                                            APIs for Python\r\n",
      "                                                            database\r\n",
      "                                                            programming\r\n",
      "backwork-backup-mysql (0.3.0)                             - Backwork plug-in\r\n",
      "                                                            for MySQL backups.\r\n",
      "prometheus-mysql-exporter (0.1.1)                         - MySQL query\r\n",
      "                                                            Prometheus\r\n",
      "                                                            exporter\r\n",
      "django-mysql-manager (0.1.4)                              - django-mysql-\r\n",
      "                                                            manager is a\r\n",
      "                                                            Django based\r\n",
      "                                                            management\r\n",
      "                                                            interface for\r\n",
      "                                                            MySQL users and\r\n",
      "                                                            databases.\r\n",
      "connector-events (0.1.0)                                  - Events app\r\n",
      "                                                            primarily for the\r\n",
      "                                                            'connector' events\r\n",
      "                                                            & community\r\n",
      "                                                            aggregator\r\n",
      "neo4j-connector (1.0.1)                                   - Connector with\r\n",
      "                                                            single-request\r\n",
      "                                                            transactions for\r\n",
      "                                                            Neo4j 3.0 and\r\n",
      "                                                            above\r\n",
      "mysql-batch (1.2)                                         - Run large MySQL\r\n",
      "                                                            UPDATE and DELETE\r\n",
      "                                                            queries with small\r\n",
      "                                                            batches to prevent\r\n",
      "                                                            table/row-level\r\n",
      "                                                            locks\r\n",
      "prov-db-connector (0.3.1)                                 - PROV Database\r\n",
      "                                                            Connector\r\n",
      "snowflake-connector-python (2.0.1)                        - Snowflake\r\n",
      "                                                            Connector for\r\n",
      "                                                            Python\r\n",
      "zoho-analytics-connector (0.2.2)                          - Zoho Analytics\r\n",
      "                                                            connector\r\n",
      "tendril-connector-geda (0.1.2)                            - gEDA connector for\r\n",
      "                                                            tendril\r\n",
      "django-redis-connector (1.0.3)                            - Django Redis\r\n",
      "                                                            Connector\r\n",
      "kpc-connector-utils (0.1.19)                              - Connector utils\r\n",
      "                                                            and configs\r\n",
      "zoho-crm-connector (0.2.0)                                - Zoho CRM connector\r\n",
      "django-mysql-fuzzycount (0.4)                             - Approximate query\r\n",
      "                                                            counts for MySQL\r\n",
      "                                                            and Django.\r\n",
      "django-mysql-pymysql (0.1)                                - Django MySQL\r\n",
      "                                                            backend for\r\n",
      "                                                            PyMySQL adapter\r\n",
      "scrapy-mysql-pipeline (2019.7.19)                         - Asynchronous mysql\r\n",
      "                                                            Scrapy item\r\n",
      "                                                            pipeline\r\n",
      "tap-mysql-koszti (1.0.4)                                  - Singer.io tap for\r\n",
      "                                                            extracting data\r\n",
      "                                                            from MySQL - fork\r\n",
      "                                                            of tap-mysql\r\n",
      "                                                            1.9.24 with custom\r\n",
      "                                                            changes\r\n",
      "lizard-connector (0.7.1)                                  - A connector to\r\n",
      "                                                            connect to the\r\n",
      "                                                            Lizard-API (https:\r\n",
      "                                                            //demo.lizard.net/\r\n",
      "                                                            api/v2/) with\r\n",
      "                                                            Python.\r\n",
      "mysql-latin1-codec (2.0)                                  - Python string\r\n",
      "                                                            codec for MySQL's\r\n",
      "                                                            latin1 encoding\r\n",
      "gt-dicom-connector (0.0.2)                                - A DICOM Node\r\n",
      "                                                            Connector for\r\n",
      "                                                            Python\r\n",
      "siridb-connector-twisted (2.0.6)                          - SiriDB Connector\r\n",
      "                                                            (using Twisted)\r\n",
      "odoo10-addon-connector-magento (10.0.1.0.0.99.dev33)      - Magento Connector\r\n",
      "odoo8-addon-connector-dns (8.0.1.0.0.99.dev5)             - DNS connector\r\n",
      "odoo8-addon-connector-redmine (8.0.2.0.0.99.dev2)         - Redmine Connector\r\n",
      "odoo12-addon-connector-jira (12.0.1.2.0)                  - JIRA Connector\r\n",
      "odoo11-addon-connector-jira (11.0.1.4.0)                  - JIRA Connector\r\n",
      "odoo8-addon-connector-woocommerce (8.0.1.0.1)             - WooCommerce\r\n",
      "                                                            Connector\r\n",
      "django-mysql-aesfield (0.2.1)                             - Django Model Field\r\n",
      "                                                            that supports AES\r\n",
      "                                                            encryption in\r\n",
      "                                                            MySQL\r\n",
      "django-mysql-geventpool (0.2.5)                           - Add a MySQL\r\n",
      "                                                            connection pool\r\n",
      "                                                            for django using\r\n",
      "                                                            gevent\r\n",
      "mysql-to-json (1.0.0)                                     - Connects to a\r\n",
      "                                                            MySQL database and\r\n",
      "                                                            exports selected\r\n",
      "                                                            data to JSON.\r\n",
      "monitor-mysql-overflows (1.1.1)                           - MySQL utilities to\r\n",
      "                                                            detect integer\r\n",
      "                                                            like columns\r\n",
      "                                                            overflows\r\n",
      "django-mysql-fix (0.1.6)                                  - This project\r\n",
      "                                                            contains\r\n",
      "                                                            optimizations\r\n",
      "                                                            (hacks) for MySQL\r\n",
      "                                                            for Django ORM\r\n",
      "odoo8-addon-connector-job-subscribe (8.0.1.0.0.99.dev12)  - Connector\r\n",
      "odoo9-addon-connector-job-subscribe (9.0.1.0.0)           - Connector\r\n"
     ]
    },
    {
     "name": "stdout",
     "output_type": "stream",
     "text": [
      "Note: you may need to restart the kernel to use updated packages.\n"
     ]
    }
   ],
   "source": [
    "pip search mysql-connector"
   ]
  },
  {
   "cell_type": "code",
   "execution_count": 2,
   "metadata": {
    "scrolled": true
   },
   "outputs": [
    {
     "name": "stdout",
     "output_type": "stream",
     "text": [
      "Requirement already satisfied: mysql-connector-python in /Users/chunzhou/opt/anaconda3/lib/python3.7/site-packages (8.0.18)\n",
      "Requirement already satisfied: protobuf>=3.0.0 in /Users/chunzhou/opt/anaconda3/lib/python3.7/site-packages (from mysql-connector-python) (3.10.0)\n",
      "Requirement already satisfied: six>=1.9 in /Users/chunzhou/opt/anaconda3/lib/python3.7/site-packages (from protobuf>=3.0.0->mysql-connector-python) (1.12.0)\n",
      "Requirement already satisfied: setuptools in /Users/chunzhou/opt/anaconda3/lib/python3.7/site-packages (from protobuf>=3.0.0->mysql-connector-python) (41.4.0)\n",
      "Note: you may need to restart the kernel to use updated packages.\n"
     ]
    }
   ],
   "source": [
    "pip install mysql-connector-python"
   ]
  },
  {
   "cell_type": "code",
   "execution_count": 1,
   "metadata": {
    "scrolled": true
   },
   "outputs": [],
   "source": [
    "import Paipai_API"
   ]
  },
  {
   "cell_type": "code",
   "execution_count": 2,
   "metadata": {},
   "outputs": [],
   "source": [
    "from Paipai_API import PaiPai_HF_API"
   ]
  },
  {
   "cell_type": "markdown",
   "metadata": {},
   "source": [
    "# Initialize Class"
   ]
  },
  {
   "cell_type": "code",
   "execution_count": 3,
   "metadata": {
    "scrolled": true
   },
   "outputs": [],
   "source": [
    "sample1=PaiPai_HF_API(None,['HF0000000G','HF00000008'],None)"
   ]
  },
  {
   "cell_type": "code",
   "execution_count": 4,
   "metadata": {},
   "outputs": [],
   "source": [
    "sample2=PaiPai_HF_API(None,['HF0000000G','HF00000008','HF00000009','HF0000000A','HF0000000B','HF0000000C','HF0000000D'],None)"
   ]
  },
  {
   "cell_type": "code",
   "execution_count": 5,
   "metadata": {},
   "outputs": [],
   "source": [
    "sample3=PaiPai_HF_API(None, None, ['',''])"
   ]
  },
  {
   "cell_type": "markdown",
   "metadata": {},
   "source": [
    "# Demo"
   ]
  },
  {
   "cell_type": "code",
   "execution_count": 6,
   "metadata": {},
   "outputs": [
    {
     "name": "stdout",
     "output_type": "stream",
     "text": [
      "('HF0000000G', 'HF00000008', 'HF00000009', 'HF0000000A', 'HF0000000B', 'HF0000000C', 'HF0000000D')\n",
      "      fund_id  updatetime  substrategy  strategy\n",
      "0  HF00000008    20181229            1         1\n",
      "1  HF00000009    20170317            1         1\n",
      "2  HF0000000A    20170116            1         1\n",
      "3  HF0000000B    20170112            1         1\n",
      "4  HF0000000C    20170504            1         1\n",
      "5  HF0000000D    20161013            1         1\n",
      "6  HF0000000G    20170204            1         1\n"
     ]
    }
   ],
   "source": [
    "strategy=sample2.get_fund_strategy()\n",
    "print(strategy)"
   ]
  },
  {
   "cell_type": "code",
   "execution_count": 7,
   "metadata": {
    "scrolled": false
   },
   "outputs": [
    {
     "name": "stdout",
     "output_type": "stream",
     "text": [
      "('HF0000000G', 'HF00000008')\n",
      "        fund_id  end_date       ret\n",
      "0    HF00000008    200712       NaN\n",
      "1    HF00000008    200801  0.006300\n",
      "2    HF00000008    200803       NaN\n",
      "3    HF00000008    200804 -0.127648\n",
      "4    HF00000008    200805  0.046873\n",
      "..          ...       ...       ...\n",
      "302  HF0000000G    201905 -0.060987\n",
      "303  HF0000000G    201906  0.041824\n",
      "304  HF0000000G    201907  0.004556\n",
      "305  HF0000000G    201908  0.035324\n",
      "306  HF0000000G    201909 -0.004978\n",
      "\n",
      "[307 rows x 3 columns]\n"
     ]
    }
   ],
   "source": [
    "ret=sample1.get_fund_ret()\n",
    "print(ret)"
   ]
  },
  {
   "cell_type": "code",
   "execution_count": 8,
   "metadata": {},
   "outputs": [
    {
     "name": "stdout",
     "output_type": "stream",
     "text": [
      "('HF0000000G', 'HF00000008', 'HF00000009', 'HF0000000A', 'HF0000000B', 'HF0000000C', 'HF0000000D')\n",
      "      fund_id  updatetime          createtime\n",
      "0  HF00000008    20181229 2013-05-28 09:10:34\n",
      "1  HF00000009    20170317 2013-05-28 09:10:34\n",
      "2  HF0000000A    20170116 2013-05-28 09:10:34\n",
      "3  HF0000000B    20170112 2013-05-28 09:10:34\n",
      "4  HF0000000C    20170504 2013-05-28 09:10:34\n",
      "5  HF0000000D    20161013 2013-05-28 09:10:34\n",
      "6  HF0000000G    20170204 2013-05-28 09:10:34\n"
     ]
    }
   ],
   "source": [
    "createtime=sample2.get_create_time()\n",
    "print(createtime)"
   ]
  },
  {
   "cell_type": "code",
   "execution_count": 9,
   "metadata": {
    "scrolled": false
   },
   "outputs": [
    {
     "name": "stdout",
     "output_type": "stream",
     "text": [
      "('HF0000000G', 'HF00000008', 'HF00000009', 'HF0000000A', 'HF0000000B', 'HF0000000C', 'HF0000000D')\n",
      "       fund_id  fund_asset_size_date  fund_asset_size\n",
      "0   HF0000000A              20090601           3130.0\n",
      "1   HF0000000A              20110228              NaN\n",
      "2   HF0000000A              20110311              NaN\n",
      "3   HF0000000A              20130301              NaN\n",
      "4   HF0000000B              20101022          10000.0\n",
      "5   HF0000000B              20111110              NaN\n",
      "6   HF0000000B              20120306           7000.0\n",
      "7   HF0000000B              20120621              NaN\n",
      "8   HF0000000C              20101029              NaN\n",
      "9   HF0000000C              20110506              NaN\n",
      "10  HF0000000C              20110805              NaN\n",
      "11  HF0000000C              20111209              NaN\n",
      "12  HF0000000C              20120831              NaN\n",
      "13  HF0000000D              20090401           6000.0\n"
     ]
    }
   ],
   "source": [
    "aum=sample2.get_aum()\n",
    "print(aum)"
   ]
  },
  {
   "cell_type": "code",
   "execution_count": 10,
   "metadata": {},
   "outputs": [
    {
     "name": "stdout",
     "output_type": "stream",
     "text": [
      "('', '')\n",
      "1054 (42S22): Unknown column 'fund_id' in 'where clause'\n",
      "None\n"
     ]
    }
   ],
   "source": [
    "personnel_info=sample3.get_current_personnel_info()\n",
    "print(personnel_info)"
   ]
  },
  {
   "cell_type": "code",
   "execution_count": null,
   "metadata": {},
   "outputs": [],
   "source": []
  }
 ],
 "metadata": {
  "kernelspec": {
   "display_name": "Python 3",
   "language": "python",
   "name": "python3"
  },
  "language_info": {
   "codemirror_mode": {
    "name": "ipython",
    "version": 3
   },
   "file_extension": ".py",
   "mimetype": "text/x-python",
   "name": "python",
   "nbconvert_exporter": "python",
   "pygments_lexer": "ipython3",
   "version": "3.7.4"
  }
 },
 "nbformat": 4,
 "nbformat_minor": 2
}
