{
 "cells": [
  {
   "cell_type": "code",
   "execution_count": null,
   "metadata": {},
   "outputs": [],
   "source": []
  },
  {
   "cell_type": "markdown",
   "metadata": {},
   "source": [
    "# Import Packages"
   ]
  },
  {
   "cell_type": "code",
   "execution_count": 1,
   "metadata": {
    "scrolled": true
   },
   "outputs": [
    {
     "name": "stdout",
     "output_type": "stream",
     "text": [
      "\n",
      "The following command must be run outside of the IPython shell:\n",
      "\n",
      "    $ pip search mysql-connector\n",
      "\n",
      "The Python package manager (pip) can only be used from outside of IPython.\n",
      "Please reissue the `pip` command in a separate terminal or command prompt.\n",
      "\n",
      "See the Python documentation for more information on how to install packages:\n",
      "\n",
      "    https://docs.python.org/3/installing/\n"
     ]
    }
   ],
   "source": [
    "pip search mysql-connector"
   ]
  },
  {
   "cell_type": "code",
   "execution_count": 2,
   "metadata": {
    "scrolled": true
   },
   "outputs": [
    {
     "name": "stdout",
     "output_type": "stream",
     "text": [
      "\n",
      "The following command must be run outside of the IPython shell:\n",
      "\n",
      "    $ pip install mysql-connector-python\n",
      "\n",
      "The Python package manager (pip) can only be used from outside of IPython.\n",
      "Please reissue the `pip` command in a separate terminal or command prompt.\n",
      "\n",
      "See the Python documentation for more information on how to install packages:\n",
      "\n",
      "    https://docs.python.org/3/installing/\n"
     ]
    }
   ],
   "source": [
    "pip install mysql-connector-python"
   ]
  },
  {
   "cell_type": "code",
   "execution_count": 3,
   "metadata": {
    "scrolled": true
   },
   "outputs": [
    {
     "ename": "ModuleNotFoundError",
     "evalue": "No module named 'mysql'",
     "output_type": "error",
     "traceback": [
      "\u001b[0;31m---------------------------------------------------------------------------\u001b[0m",
      "\u001b[0;31mModuleNotFoundError\u001b[0m                       Traceback (most recent call last)",
      "\u001b[0;32m<ipython-input-3-9e0721c98307>\u001b[0m in \u001b[0;36m<module>\u001b[0;34m\u001b[0m\n\u001b[0;32m----> 1\u001b[0;31m \u001b[0;32mimport\u001b[0m \u001b[0mPaipai_API\u001b[0m\u001b[0;34m\u001b[0m\u001b[0m\n\u001b[0m",
      "\u001b[0;32m~/Desktop/UP_Project-master/Paipai_API.py\u001b[0m in \u001b[0;36m<module>\u001b[0;34m\u001b[0m\n\u001b[1;32m      1\u001b[0m \u001b[0;32mimport\u001b[0m \u001b[0mpandas\u001b[0m \u001b[0;32mas\u001b[0m \u001b[0mpd\u001b[0m\u001b[0;34m\u001b[0m\u001b[0m\n\u001b[0;32m----> 2\u001b[0;31m \u001b[0;32mimport\u001b[0m \u001b[0mmysql\u001b[0m\u001b[0;34m.\u001b[0m\u001b[0mconnector\u001b[0m\u001b[0;34m\u001b[0m\u001b[0m\n\u001b[0m\u001b[1;32m      3\u001b[0m \u001b[0;34m\u001b[0m\u001b[0m\n\u001b[1;32m      4\u001b[0m rz_user = {'host': '119.23.156.67',\n\u001b[1;32m      5\u001b[0m            \u001b[0;34m'port'\u001b[0m\u001b[0;34m:\u001b[0m\u001b[0;36m3306\u001b[0m\u001b[0;34m,\u001b[0m\u001b[0;34m\u001b[0m\u001b[0m\n",
      "\u001b[0;31mModuleNotFoundError\u001b[0m: No module named 'mysql'"
     ]
    }
   ],
   "source": [
    "import Paipai_API"
   ]
  },
  {
   "cell_type": "code",
   "execution_count": 4,
   "metadata": {},
   "outputs": [
    {
     "ename": "ModuleNotFoundError",
     "evalue": "No module named 'mysql'",
     "output_type": "error",
     "traceback": [
      "\u001b[0;31m---------------------------------------------------------------------------\u001b[0m",
      "\u001b[0;31mModuleNotFoundError\u001b[0m                       Traceback (most recent call last)",
      "\u001b[0;32m<ipython-input-4-4465d693d3be>\u001b[0m in \u001b[0;36m<module>\u001b[0;34m\u001b[0m\n\u001b[0;32m----> 1\u001b[0;31m \u001b[0;32mfrom\u001b[0m \u001b[0mPaipai_API\u001b[0m \u001b[0;32mimport\u001b[0m \u001b[0mPaiPai_HF_API\u001b[0m\u001b[0;34m\u001b[0m\u001b[0m\n\u001b[0m",
      "\u001b[0;32m~/Desktop/UP_Project-master/Paipai_API.py\u001b[0m in \u001b[0;36m<module>\u001b[0;34m\u001b[0m\n\u001b[1;32m      1\u001b[0m \u001b[0;32mimport\u001b[0m \u001b[0mpandas\u001b[0m \u001b[0;32mas\u001b[0m \u001b[0mpd\u001b[0m\u001b[0;34m\u001b[0m\u001b[0m\n\u001b[0;32m----> 2\u001b[0;31m \u001b[0;32mimport\u001b[0m \u001b[0mmysql\u001b[0m\u001b[0;34m.\u001b[0m\u001b[0mconnector\u001b[0m\u001b[0;34m\u001b[0m\u001b[0m\n\u001b[0m\u001b[1;32m      3\u001b[0m \u001b[0;34m\u001b[0m\u001b[0m\n\u001b[1;32m      4\u001b[0m rz_user = {'host': '119.23.156.67',\n\u001b[1;32m      5\u001b[0m            \u001b[0;34m'port'\u001b[0m\u001b[0;34m:\u001b[0m\u001b[0;36m3306\u001b[0m\u001b[0;34m,\u001b[0m\u001b[0;34m\u001b[0m\u001b[0m\n",
      "\u001b[0;31mModuleNotFoundError\u001b[0m: No module named 'mysql'"
     ]
    }
   ],
   "source": [
    "from Paipai_API import PaiPai_HF_API"
   ]
  },
  {
   "cell_type": "markdown",
   "metadata": {},
   "source": [
    "# Initialize Class"
   ]
  },
  {
   "cell_type": "markdown",
   "metadata": {},
   "source": [
    "In the following examles we will extract the data of several hedge funds.\n",
    "\n",
    "\n",
    "Each API object can be used to extract any types of information available for a certain set of funds.\n",
    "\n",
    "Instead of directly pulling every possible data, API object offers flexibility in terms of types of data that needs to be pulled.\n"
   ]
  },
  {
   "cell_type": "code",
   "execution_count": 3,
   "metadata": {
    "scrolled": true
   },
   "outputs": [],
   "source": [
    "sample1=PaiPai_HF_API(None,['HF0000000G','HF00000008'],None)"
   ]
  },
  {
   "cell_type": "code",
   "execution_count": 4,
   "metadata": {},
   "outputs": [],
   "source": [
    "sample2=PaiPai_HF_API(None,['HF0000000G','HF00000008','HF00000009','HF0000000A','HF0000000B','HF0000000C','HF0000000D'],None)"
   ]
  },
  {
   "cell_type": "code",
   "execution_count": 5,
   "metadata": {},
   "outputs": [],
   "source": [
    "sample3=PaiPai_HF_API(None, None, ['',''])"
   ]
  },
  {
   "cell_type": "markdown",
   "metadata": {},
   "source": [
    "# Demo"
   ]
  },
  {
   "cell_type": "markdown",
   "metadata": {},
   "source": [
    "The next example will pull the following information from the SQL database.\n",
    "\n",
    "1. Strategy\n",
    "2. Return\n",
    "3. create time\n",
    "4. aum\n",
    "\n",
    "Later, we will customize the query so that we could pull specific feature from the table."
   ]
  },
  {
   "cell_type": "code",
   "execution_count": 6,
   "metadata": {},
   "outputs": [
    {
     "name": "stdout",
     "output_type": "stream",
     "text": [
      "('HF0000000G', 'HF00000008', 'HF00000009', 'HF0000000A', 'HF0000000B', 'HF0000000C', 'HF0000000D')\n",
      "      fund_id  updatetime  substrategy  strategy\n",
      "0  HF00000008    20181229            1         1\n",
      "1  HF00000009    20170317            1         1\n",
      "2  HF0000000A    20170116            1         1\n",
      "3  HF0000000B    20170112            1         1\n",
      "4  HF0000000C    20170504            1         1\n",
      "5  HF0000000D    20161013            1         1\n",
      "6  HF0000000G    20170204            1         1\n"
     ]
    }
   ],
   "source": [
    "strategy=sample2.get_fund_strategy()\n",
    "print(strategy)"
   ]
  },
  {
   "cell_type": "code",
   "execution_count": 7,
   "metadata": {
    "scrolled": false
   },
   "outputs": [
    {
     "name": "stdout",
     "output_type": "stream",
     "text": [
      "('HF0000000G', 'HF00000008')\n",
      "        fund_id  end_date       ret\n",
      "0    HF00000008    200712       NaN\n",
      "1    HF00000008    200801  0.006300\n",
      "2    HF00000008    200803       NaN\n",
      "3    HF00000008    200804 -0.127648\n",
      "4    HF00000008    200805  0.046873\n",
      "..          ...       ...       ...\n",
      "302  HF0000000G    201905 -0.060987\n",
      "303  HF0000000G    201906  0.041824\n",
      "304  HF0000000G    201907  0.004556\n",
      "305  HF0000000G    201908  0.035324\n",
      "306  HF0000000G    201909 -0.004978\n",
      "\n",
      "[307 rows x 3 columns]\n"
     ]
    }
   ],
   "source": [
    "ret=sample1.get_fund_ret()\n",
    "print(ret)"
   ]
  },
  {
   "cell_type": "code",
   "execution_count": 8,
   "metadata": {},
   "outputs": [
    {
     "name": "stdout",
     "output_type": "stream",
     "text": [
      "('HF0000000G', 'HF00000008', 'HF00000009', 'HF0000000A', 'HF0000000B', 'HF0000000C', 'HF0000000D')\n",
      "      fund_id  updatetime          createtime\n",
      "0  HF00000008    20181229 2013-05-28 09:10:34\n",
      "1  HF00000009    20170317 2013-05-28 09:10:34\n",
      "2  HF0000000A    20170116 2013-05-28 09:10:34\n",
      "3  HF0000000B    20170112 2013-05-28 09:10:34\n",
      "4  HF0000000C    20170504 2013-05-28 09:10:34\n",
      "5  HF0000000D    20161013 2013-05-28 09:10:34\n",
      "6  HF0000000G    20170204 2013-05-28 09:10:34\n"
     ]
    }
   ],
   "source": [
    "createtime=sample2.get_create_time()\n",
    "print(createtime)"
   ]
  },
  {
   "cell_type": "code",
   "execution_count": 9,
   "metadata": {
    "scrolled": false
   },
   "outputs": [
    {
     "name": "stdout",
     "output_type": "stream",
     "text": [
      "('HF0000000G', 'HF00000008', 'HF00000009', 'HF0000000A', 'HF0000000B', 'HF0000000C', 'HF0000000D')\n",
      "       fund_id  fund_asset_size_date  fund_asset_size\n",
      "0   HF0000000A              20090601           3130.0\n",
      "1   HF0000000A              20110228              NaN\n",
      "2   HF0000000A              20110311              NaN\n",
      "3   HF0000000A              20130301              NaN\n",
      "4   HF0000000B              20101022          10000.0\n",
      "5   HF0000000B              20111110              NaN\n",
      "6   HF0000000B              20120306           7000.0\n",
      "7   HF0000000B              20120621              NaN\n",
      "8   HF0000000C              20101029              NaN\n",
      "9   HF0000000C              20110506              NaN\n",
      "10  HF0000000C              20110805              NaN\n",
      "11  HF0000000C              20111209              NaN\n",
      "12  HF0000000C              20120831              NaN\n",
      "13  HF0000000D              20090401           6000.0\n"
     ]
    }
   ],
   "source": [
    "aum=sample2.get_aum()\n",
    "print(aum)"
   ]
  },
  {
   "cell_type": "code",
   "execution_count": 10,
   "metadata": {},
   "outputs": [
    {
     "name": "stdout",
     "output_type": "stream",
     "text": [
      "('', '')\n",
      "1054 (42S22): Unknown column 'fund_id' in 'where clause'\n",
      "None\n"
     ]
    }
   ],
   "source": [
    "personnel_info=sample3.get_current_personnel_info()\n",
    "print(personnel_info)"
   ]
  },
  {
   "cell_type": "code",
   "execution_count": null,
   "metadata": {},
   "outputs": [],
   "source": []
  }
 ],
 "metadata": {
  "kernelspec": {
   "display_name": "Python 3",
   "language": "python",
   "name": "python3"
  },
  "language_info": {
   "codemirror_mode": {
    "name": "ipython",
    "version": 3
   },
   "file_extension": ".py",
   "mimetype": "text/x-python",
   "name": "python",
   "nbconvert_exporter": "python",
   "pygments_lexer": "ipython3",
   "version": "3.6.5"
  }
 },
 "nbformat": 4,
 "nbformat_minor": 2
}
