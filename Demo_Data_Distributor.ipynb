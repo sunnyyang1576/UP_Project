{
 "cells": [
  {
   "cell_type": "markdown",
   "metadata": {},
   "source": [
    "# Demo on Data Distributor"
   ]
  },
  {
   "cell_type": "markdown",
   "metadata": {},
   "source": [
    "The purpose of this module is to reorganize the data imported from API into a fund-orientated format.\n",
    "\n",
    "This module should also be able to react to more flexible query from the UI.\n",
    "\n",
    "This module mainly serves as a controller. It intereacts with UI,API and Storage instrument.\n",
    "\n",
    "More specfically, it takes data from API module and distributes them into different storage instrument and return them to UI.\n"
   ]
  },
  {
   "cell_type": "markdown",
   "metadata": {},
   "source": [
    "## Import Library and Sample Dataset"
   ]
  },
  {
   "cell_type": "code",
   "execution_count": 9,
   "metadata": {},
   "outputs": [],
   "source": [
    "import pandas as pd\n",
    "from PaiPai_Data_Distributor import (DistributorController,\n",
    "                                     AssetSizeDistributor)"
   ]
  },
  {
   "cell_type": "code",
   "execution_count": 10,
   "metadata": {},
   "outputs": [],
   "source": [
    "asset_df = pd.read_csv(\"aum.csv\")"
   ]
  },
  {
   "cell_type": "markdown",
   "metadata": {},
   "source": [
    "## Data Distribution"
   ]
  },
  {
   "cell_type": "markdown",
   "metadata": {},
   "source": [
    "The following example aims to store the asset size information of three different funds.\n",
    "\n",
    "We first initialize the DistributorController with the fund_id we want."
   ]
  },
  {
   "cell_type": "code",
   "execution_count": 11,
   "metadata": {},
   "outputs": [],
   "source": [
    "distributor = DistributorController([\"HF0000000A\",\"HF0000000B\",\"HF0000000C\"])"
   ]
  },
  {
   "cell_type": "markdown",
   "metadata": {},
   "source": [
    "After initializing the DistributorController, different empty hedge fund storage instruments are created at the same time."
   ]
  },
  {
   "cell_type": "code",
   "execution_count": 12,
   "metadata": {},
   "outputs": [
    {
     "data": {
      "text/plain": [
       "{'HF0000000A': <PaiPai_Data_Storage.PaiPaiHFInstrument at 0x115c08e80>,\n",
       " 'HF0000000B': <PaiPai_Data_Storage.PaiPaiHFInstrument at 0x115c08f98>,\n",
       " 'HF0000000C': <PaiPai_Data_Storage.PaiPaiHFInstrument at 0x115c08fd0>}"
      ]
     },
     "execution_count": 12,
     "metadata": {},
     "output_type": "execute_result"
    }
   ],
   "source": [
    "distributor.storage_dict"
   ]
  },
  {
   "cell_type": "markdown",
   "metadata": {},
   "source": [
    "Now, we distribute the asset_df into different hedge funds.\n",
    "\n",
    "To do this, we need to call the distribute_asset_size method. Under this method, a specific asset size distributor will be initialized to handle this task."
   ]
  },
  {
   "cell_type": "code",
   "execution_count": 13,
   "metadata": {},
   "outputs": [
    {
     "name": "stdout",
     "output_type": "stream",
     "text": [
      "Asset size of HF0000000A is stored.\n",
      "Asset size of HF0000000B is stored.\n",
      "Asset size of HF0000000C is stored.\n"
     ]
    }
   ],
   "source": [
    "distributor.distribute_asset_size(asset_df,update_time=\"2019-10-15\")"
   ]
  },
  {
   "cell_type": "markdown",
   "metadata": {},
   "source": [
    "To access the information distributed. We generally follows the following steps:\n",
    "\n",
    "1. export hedge fund storage instrument which is stored in the storage_dict\n",
    "2. export the specific feature storage instrument from the hedge fund storage instrument.\n",
    "3. access the specific feature data from the feature storage instrument"
   ]
  },
  {
   "cell_type": "code",
   "execution_count": 17,
   "metadata": {},
   "outputs": [],
   "source": [
    "sample_hf_1 = distributor.storage_dict[\"HF0000000A\"] "
   ]
  },
  {
   "cell_type": "code",
   "execution_count": 18,
   "metadata": {},
   "outputs": [],
   "source": [
    "sample_hf_1_asset = sample_hf_1.asset_size_storage"
   ]
  },
  {
   "cell_type": "code",
   "execution_count": 19,
   "metadata": {},
   "outputs": [
    {
     "data": {
      "text/plain": [
       "0    3130.0\n",
       "1       NaN\n",
       "2       NaN\n",
       "3       NaN\n",
       "Name: fund_asset_size, dtype: float64"
      ]
     },
     "execution_count": 19,
     "metadata": {},
     "output_type": "execute_result"
    }
   ],
   "source": [
    "sample_hf_1_asset.asset_size_series"
   ]
  },
  {
   "cell_type": "code",
   "execution_count": null,
   "metadata": {},
   "outputs": [],
   "source": []
  },
  {
   "cell_type": "code",
   "execution_count": null,
   "metadata": {},
   "outputs": [],
   "source": []
  }
 ],
 "metadata": {
  "kernelspec": {
   "display_name": "Python 3",
   "language": "python",
   "name": "python3"
  },
  "language_info": {
   "codemirror_mode": {
    "name": "ipython",
    "version": 3
   },
   "file_extension": ".py",
   "mimetype": "text/x-python",
   "name": "python",
   "nbconvert_exporter": "python",
   "pygments_lexer": "ipython3",
   "version": "3.6.5"
  }
 },
 "nbformat": 4,
 "nbformat_minor": 2
}
